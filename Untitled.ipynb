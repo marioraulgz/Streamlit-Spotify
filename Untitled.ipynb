{
 "cells": [
  {
   "cell_type": "code",
   "execution_count": 1,
   "id": "43212a64-a980-47f2-a37e-db3b91baea69",
   "metadata": {},
   "outputs": [],
   "source": [
    "import spotipy as spoti\n",
    "from spotipy.oauth2 import SpotifyClientCredentials\n"
   ]
  },
  {
   "cell_type": "code",
   "execution_count": 2,
   "id": "63f014fc-d888-4c3e-b41b-bc12369b545e",
   "metadata": {},
   "outputs": [],
   "source": [
    "import pandas as pd"
   ]
  },
  {
   "cell_type": "code",
   "execution_count": 3,
   "id": "a521e48d-a776-4976-84a4-c5892b2112df",
   "metadata": {},
   "outputs": [],
   "source": [
    "cid = '1c5eb54d90c1432e9cfdd15797a78f94'\n",
    "secret = 'e55cf83e20304dc6bdc43760c2e2791c'\n",
    "\n",
    "client_credentials_manager = SpotifyClientCredentials(client_id=cid, client_secret=secret)\n",
    "sp = spoti.Spotify(client_credentials_manager = client_credentials_manager)"
   ]
  },
  {
   "cell_type": "code",
   "execution_count": 4,
   "id": "09e37ead-70d0-4a64-a6da-5790d04ce091",
   "metadata": {},
   "outputs": [],
   "source": [
    "search_ = \"los tontos\""
   ]
  },
  {
   "cell_type": "code",
   "execution_count": 12,
   "id": "b174bee8-6f18-407a-809d-d57097d1230e",
   "metadata": {},
   "outputs": [],
   "source": [
    "def search_results_fetch(query, n_results):\n",
    "    search_results = sp.search(q=query, limit=n_results, type=\"track\")\n",
    "    dic_ids = {}\n",
    "    dic_explicit = {}\n",
    "    dic_artists = {}\n",
    "    number_results = max(n_results, len(search_results[\"tracks\"][\"items\"]))\n",
    "    list_song_names = [0 for i in range(number_results)]\n",
    "    for i in range(number_results):\n",
    "        print(i)\n",
    "        artist_i = search_results[\"tracks\"][\"items\"][i][\"artists\"]\n",
    "        list_song_names[i] = search_results[\"tracks\"][\"items\"][i][\"name\"]\n",
    "        dic_ids[i] = search_results[\"tracks\"][\"items\"][i][\"id\"]\n",
    "        dic_explicit[i] = search_results[\"tracks\"][\"items\"][i][\"explicit\"]\n",
    "        dic_artists[i] = [artist[\"name\"] for artist in artist_i]\n",
    "    return dic_ids, dic_explicit, dic_artists, list_song_names, number_results"
   ]
  },
  {
   "cell_type": "code",
   "execution_count": 13,
   "id": "b4bdf746-6f8f-4d76-bcc3-e4bb8414a345",
   "metadata": {},
   "outputs": [
    {
     "name": "stdout",
     "output_type": "stream",
     "text": [
      "0\n",
      "1\n",
      "2\n",
      "3\n",
      "4\n",
      "5\n"
     ]
    }
   ],
   "source": [
    "dic_ids, dic_explicit, dic_artists, list_song_names, number_results = search_results_fetch(search_, 6)"
   ]
  },
  {
   "cell_type": "code",
   "execution_count": 7,
   "id": "a64022de-45ff-4a71-b931-2fc51b256d3e",
   "metadata": {},
   "outputs": [],
   "source": [
    "search_results = sp.search(q=search_, limit=6,type='track')\n"
   ]
  },
  {
   "cell_type": "code",
   "execution_count": 9,
   "id": "08980fb5-b5cf-4ff9-a5ca-c11ac7f344f2",
   "metadata": {},
   "outputs": [
    {
     "data": {
      "text/plain": [
       "[{'external_urls': {'spotify': 'https://open.spotify.com/artist/5TYxZTjIPqKM8K8NuP9woO'},\n",
       "  'href': 'https://api.spotify.com/v1/artists/5TYxZTjIPqKM8K8NuP9woO',\n",
       "  'id': '5TYxZTjIPqKM8K8NuP9woO',\n",
       "  'name': 'C. Tangana',\n",
       "  'type': 'artist',\n",
       "  'uri': 'spotify:artist:5TYxZTjIPqKM8K8NuP9woO'},\n",
       " {'external_urls': {'spotify': 'https://open.spotify.com/artist/5TDssiSO1YPd3BINGZx3XP'},\n",
       "  'href': 'https://api.spotify.com/v1/artists/5TDssiSO1YPd3BINGZx3XP',\n",
       "  'id': '5TDssiSO1YPd3BINGZx3XP',\n",
       "  'name': 'Kiko Veneno',\n",
       "  'type': 'artist',\n",
       "  'uri': 'spotify:artist:5TDssiSO1YPd3BINGZx3XP'}]"
      ]
     },
     "execution_count": 9,
     "metadata": {},
     "output_type": "execute_result"
    }
   ],
   "source": [
    "search_results[\"tracks\"][\"items\"][0][\"artists\"]"
   ]
  },
  {
   "cell_type": "code",
   "execution_count": 19,
   "id": "97546a0b-e11d-42b1-8d47-ab58c98e555b",
   "metadata": {},
   "outputs": [
    {
     "data": {
      "text/plain": [
       "'Los Tontos'"
      ]
     },
     "execution_count": 19,
     "metadata": {},
     "output_type": "execute_result"
    }
   ],
   "source": [
    "track_name = search_results['tracks']['items'][0]['name']\n",
    "track_name"
   ]
  },
  {
   "cell_type": "code",
   "execution_count": 22,
   "id": "f54c5abe-e11f-4926-97c0-6b53ea2838dd",
   "metadata": {},
   "outputs": [
    {
     "data": {
      "text/plain": [
       "[{'external_urls': {'spotify': 'https://open.spotify.com/artist/5TYxZTjIPqKM8K8NuP9woO'},\n",
       "  'href': 'https://api.spotify.com/v1/artists/5TYxZTjIPqKM8K8NuP9woO',\n",
       "  'id': '5TYxZTjIPqKM8K8NuP9woO',\n",
       "  'name': 'C. Tangana',\n",
       "  'type': 'artist',\n",
       "  'uri': 'spotify:artist:5TYxZTjIPqKM8K8NuP9woO'},\n",
       " {'external_urls': {'spotify': 'https://open.spotify.com/artist/5TDssiSO1YPd3BINGZx3XP'},\n",
       "  'href': 'https://api.spotify.com/v1/artists/5TDssiSO1YPd3BINGZx3XP',\n",
       "  'id': '5TDssiSO1YPd3BINGZx3XP',\n",
       "  'name': 'Kiko Veneno',\n",
       "  'type': 'artist',\n",
       "  'uri': 'spotify:artist:5TDssiSO1YPd3BINGZx3XP'}]"
      ]
     },
     "execution_count": 22,
     "metadata": {},
     "output_type": "execute_result"
    }
   ],
   "source": [
    "search_results['tracks']['items'][0]['artists']"
   ]
  },
  {
   "cell_type": "code",
   "execution_count": 14,
   "id": "17c45b93-7f74-4c6e-911d-187c623c0a57",
   "metadata": {},
   "outputs": [
    {
     "data": {
      "text/plain": [
       "'4DoEHKWh8k6vYDleECQkJx'"
      ]
     },
     "execution_count": 14,
     "metadata": {},
     "output_type": "execute_result"
    }
   ],
   "source": [
    "track_id = search_results['tracks']['items'][0]['id']\n",
    "track_id"
   ]
  },
  {
   "cell_type": "code",
   "execution_count": 15,
   "id": "7d0247c9-7ba0-464d-b1b4-109ab663909b",
   "metadata": {},
   "outputs": [
    {
     "data": {
      "text/plain": [
       "69"
      ]
     },
     "execution_count": 15,
     "metadata": {},
     "output_type": "execute_result"
    }
   ],
   "source": [
    "track_popularity = search_results['tracks']['items'][0]['popularity']\n",
    "track_popularity"
   ]
  },
  {
   "cell_type": "code",
   "execution_count": 16,
   "id": "f9b64f41-e4b5-4b23-8d6b-a86e18b810ba",
   "metadata": {},
   "outputs": [
    {
     "data": {
      "text/plain": [
       "False"
      ]
     },
     "execution_count": 16,
     "metadata": {},
     "output_type": "execute_result"
    }
   ],
   "source": [
    "track_explicit = search_results['tracks']['items'][0]['explicit']\n",
    "track_explicit"
   ]
  },
  {
   "cell_type": "code",
   "execution_count": 17,
   "id": "23a98d47-bec5-4222-af05-4a6f4e273898",
   "metadata": {},
   "outputs": [
    {
     "name": "stdout",
     "output_type": "stream",
     "text": [
      "C. Tangana\n",
      "\n",
      "Kiko Veneno\n",
      "\n"
     ]
    }
   ],
   "source": [
    "for item in search_results['tracks']['items'][0]['artists']:\n",
    "    print(item['name'])\n",
    "    print(\"\")"
   ]
  },
  {
   "cell_type": "code",
   "execution_count": 18,
   "id": "35e27c76-b43b-4442-9f89-63fc11ff3e61",
   "metadata": {},
   "outputs": [],
   "source": [
    "audio_feat_track = sp.audio_features(track_id)"
   ]
  },
  {
   "cell_type": "code",
   "execution_count": 19,
   "id": "ba024268-56f4-4406-9e56-5c3d26aa06eb",
   "metadata": {},
   "outputs": [],
   "source": [
    "audio_feat_track[0]['track.explicit']=track_explicit"
   ]
  },
  {
   "cell_type": "code",
   "execution_count": 20,
   "id": "3f9308fe-dee0-4cdf-8deb-b0bae3a2ebc1",
   "metadata": {},
   "outputs": [
    {
     "data": {
      "text/plain": [
       "[{'danceability': 0.798,\n",
       "  'energy': 0.715,\n",
       "  'key': 9,\n",
       "  'loudness': -5.712,\n",
       "  'mode': 0,\n",
       "  'speechiness': 0.187,\n",
       "  'acousticness': 0.365,\n",
       "  'instrumentalness': 2.08e-06,\n",
       "  'liveness': 0.142,\n",
       "  'valence': 0.895,\n",
       "  'tempo': 105.995,\n",
       "  'type': 'audio_features',\n",
       "  'id': '4DoEHKWh8k6vYDleECQkJx',\n",
       "  'uri': 'spotify:track:4DoEHKWh8k6vYDleECQkJx',\n",
       "  'track_href': 'https://api.spotify.com/v1/tracks/4DoEHKWh8k6vYDleECQkJx',\n",
       "  'analysis_url': 'https://api.spotify.com/v1/audio-analysis/4DoEHKWh8k6vYDleECQkJx',\n",
       "  'duration_ms': 192787,\n",
       "  'time_signature': 4,\n",
       "  'track.explicit': False}]"
      ]
     },
     "execution_count": 20,
     "metadata": {},
     "output_type": "execute_result"
    }
   ],
   "source": [
    "audio_feat_track"
   ]
  },
  {
   "cell_type": "code",
   "execution_count": 52,
   "id": "f57c57b1-6745-4a00-a9a1-ac43c8a5aeb4",
   "metadata": {},
   "outputs": [],
   "source": [
    "df = pd.DataFrame(audio_feat_track[0], index=[ 0])"
   ]
  },
  {
   "cell_type": "code",
   "execution_count": 55,
   "id": "b4d54915-5ab3-4df7-a8d3-419f8b4cd44f",
   "metadata": {},
   "outputs": [
    {
     "data": {
      "text/html": [
       "<div>\n",
       "<style scoped>\n",
       "    .dataframe tbody tr th:only-of-type {\n",
       "        vertical-align: middle;\n",
       "    }\n",
       "\n",
       "    .dataframe tbody tr th {\n",
       "        vertical-align: top;\n",
       "    }\n",
       "\n",
       "    .dataframe thead th {\n",
       "        text-align: right;\n",
       "    }\n",
       "</style>\n",
       "<table border=\"1\" class=\"dataframe\">\n",
       "  <thead>\n",
       "    <tr style=\"text-align: right;\">\n",
       "      <th></th>\n",
       "      <th>danceability</th>\n",
       "      <th>energy</th>\n",
       "      <th>key</th>\n",
       "      <th>loudness</th>\n",
       "      <th>mode</th>\n",
       "      <th>speechiness</th>\n",
       "      <th>acousticness</th>\n",
       "      <th>instrumentalness</th>\n",
       "      <th>liveness</th>\n",
       "      <th>valence</th>\n",
       "      <th>tempo</th>\n",
       "      <th>duration_ms</th>\n",
       "      <th>time_signature</th>\n",
       "      <th>track.explicit</th>\n",
       "    </tr>\n",
       "  </thead>\n",
       "  <tbody>\n",
       "    <tr>\n",
       "      <th>0</th>\n",
       "      <td>0.798</td>\n",
       "      <td>0.715</td>\n",
       "      <td>9</td>\n",
       "      <td>-5.712</td>\n",
       "      <td>0</td>\n",
       "      <td>0.187</td>\n",
       "      <td>0.365</td>\n",
       "      <td>0.000002</td>\n",
       "      <td>0.142</td>\n",
       "      <td>0.895</td>\n",
       "      <td>105.995</td>\n",
       "      <td>192787</td>\n",
       "      <td>4</td>\n",
       "      <td>False</td>\n",
       "    </tr>\n",
       "  </tbody>\n",
       "</table>\n",
       "</div>"
      ],
      "text/plain": [
       "   danceability  energy  key  loudness  mode  speechiness  acousticness  \\\n",
       "0         0.798   0.715    9    -5.712     0        0.187         0.365   \n",
       "\n",
       "   instrumentalness  liveness  valence    tempo  duration_ms  time_signature  \\\n",
       "0          0.000002     0.142    0.895  105.995       192787               4   \n",
       "\n",
       "   track.explicit  \n",
       "0           False  "
      ]
     },
     "execution_count": 55,
     "metadata": {},
     "output_type": "execute_result"
    }
   ],
   "source": [
    "df.drop(['id', 'uri', 'track_href', 'analysis_url', 'type', 'time_signature'], axis=1, inplace=True)"
   ]
  },
  {
   "cell_type": "code",
   "execution_count": 56,
   "id": "4c5d6bff-afd2-4096-810d-a650e7a6c904",
   "metadata": {},
   "outputs": [],
   "source": [
    "df.rename(columns={'duration_ms': 'track.duration_ms'}, inplace=True)"
   ]
  },
  {
   "cell_type": "code",
   "execution_count": 57,
   "id": "7110b192-f2c9-4008-9e98-bc15468756e2",
   "metadata": {},
   "outputs": [],
   "source": [
    "columns_model = ['track.explicit','key','mode','loudness','danceability','energy','speechiness','acousticness','instrumentalness','liveness','valence','tempo','track.duration_ms']"
   ]
  },
  {
   "cell_type": "code",
   "execution_count": 58,
   "id": "7efa6c63-d1c0-4b8a-84e6-d1448e8f1239",
   "metadata": {},
   "outputs": [
    {
     "data": {
      "text/html": [
       "<div>\n",
       "<style scoped>\n",
       "    .dataframe tbody tr th:only-of-type {\n",
       "        vertical-align: middle;\n",
       "    }\n",
       "\n",
       "    .dataframe tbody tr th {\n",
       "        vertical-align: top;\n",
       "    }\n",
       "\n",
       "    .dataframe thead th {\n",
       "        text-align: right;\n",
       "    }\n",
       "</style>\n",
       "<table border=\"1\" class=\"dataframe\">\n",
       "  <thead>\n",
       "    <tr style=\"text-align: right;\">\n",
       "      <th></th>\n",
       "      <th>track.explicit</th>\n",
       "      <th>key</th>\n",
       "      <th>mode</th>\n",
       "      <th>loudness</th>\n",
       "      <th>danceability</th>\n",
       "      <th>energy</th>\n",
       "      <th>speechiness</th>\n",
       "      <th>acousticness</th>\n",
       "      <th>instrumentalness</th>\n",
       "      <th>liveness</th>\n",
       "      <th>valence</th>\n",
       "      <th>tempo</th>\n",
       "      <th>track.duration_ms</th>\n",
       "    </tr>\n",
       "  </thead>\n",
       "  <tbody>\n",
       "    <tr>\n",
       "      <th>0</th>\n",
       "      <td>False</td>\n",
       "      <td>9</td>\n",
       "      <td>0</td>\n",
       "      <td>-5.712</td>\n",
       "      <td>0.798</td>\n",
       "      <td>0.715</td>\n",
       "      <td>0.187</td>\n",
       "      <td>0.365</td>\n",
       "      <td>0.000002</td>\n",
       "      <td>0.142</td>\n",
       "      <td>0.895</td>\n",
       "      <td>105.995</td>\n",
       "      <td>192787</td>\n",
       "    </tr>\n",
       "  </tbody>\n",
       "</table>\n",
       "</div>"
      ],
      "text/plain": [
       "   track.explicit  key  mode  loudness  danceability  energy  speechiness  \\\n",
       "0           False    9     0    -5.712         0.798   0.715        0.187   \n",
       "\n",
       "   acousticness  instrumentalness  liveness  valence    tempo  \\\n",
       "0         0.365          0.000002     0.142    0.895  105.995   \n",
       "\n",
       "   track.duration_ms  \n",
       "0             192787  "
      ]
     },
     "execution_count": 58,
     "metadata": {},
     "output_type": "execute_result"
    }
   ],
   "source": [
    "final_df = df[columns_model]"
   ]
  },
  {
   "cell_type": "code",
   "execution_count": null,
   "id": "cd8cc889-a676-4735-b9f6-d6d333228000",
   "metadata": {},
   "outputs": [],
   "source": []
  }
 ],
 "metadata": {
  "kernelspec": {
   "display_name": "Python 3",
   "language": "python",
   "name": "python3"
  },
  "language_info": {
   "codemirror_mode": {
    "name": "ipython",
    "version": 3
   },
   "file_extension": ".py",
   "mimetype": "text/x-python",
   "name": "python",
   "nbconvert_exporter": "python",
   "pygments_lexer": "ipython3",
   "version": "3.9.5"
  }
 },
 "nbformat": 4,
 "nbformat_minor": 5
}
